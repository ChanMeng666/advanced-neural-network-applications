{
 "cells": [
  {
   "cell_type": "markdown",
   "id": "45b9591ce869cbbb",
   "metadata": {},
   "source": [
    "# Part 2: Single Linear Neuron\n",
    "## (v)"
   ]
  },
  {
   "cell_type": "code",
   "execution_count": null,
   "id": "a522796c5959b02f",
   "metadata": {
    "ExecuteTime": {
     "end_time": "2024-08-24T12:50:37.187011Z",
     "start_time": "2024-08-24T12:50:37.061125Z"
    }
   },
   "outputs": [],
   "source": [
    "import numpy as np\n",
    "import pandas as pd\n",
    "import matplotlib.pyplot as plt\n",
    "from mpl_toolkits.mplot3d import Axes3D\n",
    "from sklearn.preprocessing import StandardScaler\n",
    "from sklearn.metrics import mean_squared_error, r2_score\n",
    "\n",
    "# Load data\n",
    "data = pd.read_csv('heat_influx_noth_south.csv')\n",
    "\n",
    "# Standardize the features\n",
    "scaler = StandardScaler()\n",
    "data[['North', 'South']] = scaler.fit_transform(data[['North', 'South']])\n",
    "\n",
    "# Previously trained model parameters\n",
    "b = 0.7010  # bias\n",
    "w1 = -0.2210  # weight for North\n",
    "w2 = 0.0890  # weight for South\n",
    "\n",
    "# Calculate the predicted heat influx using the model\n",
    "data['Predicted_HeatFlux'] = b + w1 * data['North'] + w2 * data['South']\n",
    "\n",
    "# 3D Plotting to show actual vs predicted data\n",
    "fig = plt.figure()\n",
    "ax = fig.add_subplot(111, projection='3d')\n",
    "\n",
    "# Plot actual data\n",
    "ax.scatter(data['North'], data['South'], data['HeatFlux'], c='red', label='Actual Heat Influx (Target Heat Influx)')\n",
    "\n",
    "# Plot predicted data\n",
    "ax.scatter(data['North'], data['South'], data['Predicted_HeatFlux'], c='blue', label='Predicted Heat Influx', alpha=0.5)\n",
    "\n",
    "ax.set_xlabel('North Elevation')\n",
    "ax.set_ylabel('South Elevation')\n",
    "ax.set_zlabel('Heat Influx')\n",
    "plt.title('Comparison of Actual and Predicted Heat Influx')\n",
    "plt.legend()\n",
    "plt.show()\n"
   ]
  },
  {
   "cell_type": "code",
   "execution_count": null,
   "id": "4df4cf78262d666a",
   "metadata": {},
   "outputs": [],
   "source": []
  }
 ],
 "metadata": {
  "kernelspec": {
   "display_name": "Python 3",
   "language": "python",
   "name": "python3"
  },
  "language_info": {
   "codemirror_mode": {
    "name": "ipython",
    "version": 2
   },
   "file_extension": ".py",
   "mimetype": "text/x-python",
   "name": "python",
   "nbconvert_exporter": "python",
   "pygments_lexer": "ipython2",
   "version": "2.7.6"
  }
 },
 "nbformat": 4,
 "nbformat_minor": 5
}
