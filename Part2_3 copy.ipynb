{
 "cells": [
  {
   "cell_type": "markdown",
   "id": "8e386ac8716de58a",
   "metadata": {},
   "source": [
    "# Part 2: Single Linear Neuron\n",
    "## (iii)"
   ]
  },
  {
   "cell_type": "code",
   "execution_count": null,
   "id": "1edeb8a6417943e3",
   "metadata": {
    "ExecuteTime": {
     "end_time": "2024-08-24T13:10:52.729393Z",
     "start_time": "2024-08-24T13:10:51.516944Z"
    }
   },
   "outputs": [],
   "source": [
    "import pandas as pd\n",
    "import numpy as np\n",
    "from sklearn.metrics import mean_squared_error, r2_score\n",
    "from sklearn.preprocessing import StandardScaler\n",
    "\n",
    "# Load data\n",
    "data = pd.read_csv('heat_influx_noth_south.csv')\n",
    "\n",
    "# Standardize the features\n",
    "scaler = StandardScaler()\n",
    "data[['North', 'South']] = scaler.fit_transform(data[['North', 'South']])\n",
    "\n",
    "# Parameters\n",
    "w1, w2 = np.random.randn(), np.random.randn()  # Improved random initialization\n",
    "b = np.random.randn()\n",
    "learning_rate = 0.01\n",
    "epochs = 3000\n",
    "lambda_reg = 0.01  # Regularization strength\n",
    "\n",
    "# Training the model\n",
    "for epoch in range(epochs):\n",
    "    # Predicted heat influx\n",
    "    y_pred = b + w1 * data['North'] + w2 * data['South']\n",
    "    \n",
    "    # Calculate errors\n",
    "    error = data['HeatFlux'] - y_pred\n",
    "    \n",
    "    # Update weights and bias with L2 regularization\n",
    "    w1 -= learning_rate * ((-2 * (error * data['North']).mean()) + (lambda_reg * w1))\n",
    "    w2 -= learning_rate * ((-2 * (error * data['South']).mean()) + (lambda_reg * w2))\n",
    "    b -= learning_rate * (-2 * error.mean())\n",
    "    \n",
    "    # Adjust learning rate dynamically\n",
    "    learning_rate *= 0.999\n",
    "\n",
    "    # Print loss every 100 epochs\n",
    "    if epoch % 100 == 0:\n",
    "        mse = mean_squared_error(data['HeatFlux'], y_pred)\n",
    "        print(f\"Epoch {epoch}: MSE = {mse}\")\n",
    "        \n",
    "# Final predictions\n",
    "final_pred = b + w1 * data['North'] + w2 * data['South']\n",
    "\n",
    "# Calculate metrics\n",
    "mse = mean_squared_error(data['HeatFlux'], final_pred)\n",
    "r_squared = r2_score(data['HeatFlux'], final_pred)\n",
    "\n",
    "print(f\"Final MSE: {mse}\")\n",
    "print(f\"R² Score: {r_squared}\")\n",
    "print(f\"Heat Influx = {b:.4f} + {w1:.4f}*North + {w2:.4f}*South\")\n"
   ]
  },
  {
   "cell_type": "markdown",
   "id": "a403d498956c2dfb",
   "metadata": {},
   "source": [
    "### 1. Extracting Model Weights and Writing the Network Function Equation\n",
    "\n",
    "- **Bias** (b): $0.7010$\n",
    "- **Weight** for North Elevation (North): $-0.2210$\n",
    "- **Weight** for South Elevation (South): $0.0890$\n",
    "\n",
    "Thus, the network function equation for the model is:\n",
    "$$\n",
    "\\[ \\text{Heat Influx} = 0.7010 - 0.2210 \\times \\text{North} + 0.0890 \\times \\text{South} \\]\n",
    "$$\n",
    "\n",
    "### 2. Modifying the Programme to Find the Mean Square Error (MSE) and R² Score\n",
    "\n",
    "- **Final MSE**: $0.007577167428771719$\n",
    "- **R² Score**: $0.8586320257272538$\n",
    "\n",
    "### 3. Comparing the Error Difference Between the Previous Single-Input Case (Part ii) and the Current Two-Input Case\n",
    "\n",
    "#### Results from Part (ii) (Single-Input Model)\n",
    "- **Final MSE**: $0.014981461514757207$\n",
    "- **R² Score**: $0.7204893667857554$\n",
    "\n",
    "#### Latest Results from Part (iii) (Two-Input Model)\n",
    "- **Final MSE**: $0.007577167428771719$ — Significantly Reduced\n",
    "- **R² Score**: $0.8586320257272538$ — Significantly Improved\n",
    "\n",
    "#### Analysis\n",
    "- **MSE**: The significant reduction in MSE in the two-input model indicates that the model has smaller errors in predicting heat influx, suggesting a better fit.\n",
    "- **R² Score**: The improvement in R² score demonstrates that the two-input model can explain the variability in the data better and possesses higher predictive accuracy.\n",
    "\n",
    "#### Conclusion\n",
    "\n",
    "The results of these comparisons suggest that the model that includes Southern Elevation as a second input is not only statistically superior, but may also be able to more accurately predict Heat Influx in real-world applications, possibly due to the fact that it captures more of the factors that influence Heat Influx. Overall, the dual-input model performed better than the single-input model, validating the positive impact of adding relevant feature inputs to improve model performance.\n"
   ]
  },
  {
   "cell_type": "markdown",
   "id": "2cbfad422a4a99e0",
   "metadata": {},
   "source": [
    "# Part 2: Single Linear Neuron\n",
    "## (iv)"
   ]
  },
  {
   "cell_type": "code",
   "execution_count": null,
   "id": "28613be09cffd2cc",
   "metadata": {
    "ExecuteTime": {
     "end_time": "2024-08-24T13:10:40.770061Z",
     "start_time": "2024-08-24T13:10:37.646083Z"
    }
   },
   "outputs": [],
   "source": [
    "import matplotlib.pyplot as plt\n",
    "from mpl_toolkits.mplot3d import Axes3D\n",
    "\n",
    "# Create a meshgrid for the inputs\n",
    "north_range = np.linspace(data['North'].min(), data['North'].max(), 100)\n",
    "south_range = np.linspace(data['South'].min(), data['South'].max(), 100)\n",
    "north_grid, south_grid = np.meshgrid(north_range, south_range)\n",
    "\n",
    "# Calculate predicted heat influx for the grid\n",
    "predicted_heat_influx = b + w1 * north_grid + w2 * south_grid\n",
    "\n",
    "# 3D Plotting\n",
    "fig = plt.figure()\n",
    "ax = fig.add_subplot(111, projection='3d')\n",
    "\n",
    "# Plot the surface with a label for the equation\n",
    "surf = ax.plot_surface(north_grid, south_grid, predicted_heat_influx, alpha=0.4, color='lightblue', label='Network Function: ' + f\"Heat Influx = {b:.4f} + {w1:.4f}*North + {w2:.4f}*South\")\n",
    "surf._facecolors2d = surf._facecolor3d\n",
    "surf._edgecolors2d = surf._edgecolor3d\n",
    "\n",
    "# Scatter plot of actual data points with deep blue color\n",
    "ax.scatter(data['North'], data['South'], data['HeatFlux'], color='blue', label='Original Data')\n",
    "\n",
    "\n",
    "ax.set_xlabel('North Elevation')\n",
    "ax.set_ylabel('South Elevation')\n",
    "ax.set_zlabel('Heat Influx')\n",
    "plt.title('3D Plot of Predicted Heat Influx with Actual Data Points')\n",
    "plt.legend()\n",
    "plt.show()"
   ]
  },
  {
   "cell_type": "markdown",
   "id": "c3ecbb4a444a2c78",
   "metadata": {},
   "source": [
    "# Part 2: Single Linear Neuron\n",
    "## (v)"
   ]
  },
  {
   "cell_type": "code",
   "execution_count": null,
   "id": "c59d806fac65bc3a",
   "metadata": {
    "ExecuteTime": {
     "end_time": "2024-08-24T13:10:22.864286Z",
     "start_time": "2024-08-24T13:10:22.651813Z"
    }
   },
   "outputs": [],
   "source": [
    "import matplotlib.pyplot as plt\n",
    "from mpl_toolkits.mplot3d import Axes3D\n",
    "\n",
    "# Continuing from previously calculated final_pred for predictions\n",
    "\n",
    "# 3D Plotting to show actual vs predicted data\n",
    "fig = plt.figure()\n",
    "ax = fig.add_subplot(111, projection='3d')\n",
    "\n",
    "# Scatter plot of actual data points\n",
    "ax.scatter(data['North'], data['South'], data['HeatFlux'], color='red', label='Actual Heat Influx (Target Heat Influx)')\n",
    "\n",
    "# Scatter plot of predicted data points\n",
    "ax.scatter(data['North'], data['South'], final_pred, color='blue', label='Predicted Heat Influx', alpha=0.5)\n",
    "\n",
    "ax.set_xlabel('North Elevation')\n",
    "ax.set_ylabel('South Elevation')\n",
    "ax.set_zlabel('Heat Influx')\n",
    "plt.title('Comparison of Actual and Predicted Heat Influx')\n",
    "plt.legend()\n",
    "plt.show()\n"
   ]
  },
  {
   "cell_type": "code",
   "execution_count": null,
   "id": "73075761c91abf7f",
   "metadata": {},
   "outputs": [],
   "source": []
  }
 ],
 "metadata": {
  "kernelspec": {
   "display_name": "Python 3",
   "language": "python",
   "name": "python3"
  },
  "language_info": {
   "codemirror_mode": {
    "name": "ipython",
    "version": 2
   },
   "file_extension": ".py",
   "mimetype": "text/x-python",
   "name": "python",
   "nbconvert_exporter": "python",
   "pygments_lexer": "ipython2",
   "version": "2.7.6"
  }
 },
 "nbformat": 4,
 "nbformat_minor": 5
}
